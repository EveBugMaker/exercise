{
 "cells": [
  {
   "cell_type": "markdown",
   "metadata": {},
   "source": [
    "## 准备数据"
   ]
  },
  {
   "cell_type": "code",
   "execution_count": 1,
   "metadata": {},
   "outputs": [],
   "source": [
    "import os\n",
    "import numpy as np\n",
    "import tensorflow as tf\n",
    "from tensorflow import keras\n",
    "from keras import layers, optimizers, datasets\n",
    "\n",
    "os.environ['TF_CPP_MIN_LOG_LEVEL'] = '2'  # or any {'0', '1', '2'}\n",
    "\n",
    "def mnist_dataset():\n",
    "    (x, y), (x_test, y_test) = datasets.mnist.load_data()\n",
    "    #normalize\n",
    "    x = x/255.0\n",
    "    x_test = x_test/255.0\n",
    "    \n",
    "    return (x, y), (x_test, y_test)"
   ]
  },
  {
   "cell_type": "code",
   "execution_count": 2,
   "metadata": {},
   "outputs": [
    {
     "name": "stdout",
     "output_type": "stream",
     "text": [
      "[(1, 'a'), (2, 'b'), (3, 'c'), (4, 'd')]\n"
     ]
    }
   ],
   "source": [
    "print(list(zip([1, 2, 3, 4], ['a', 'b', 'c', 'd'])))"
   ]
  },
  {
   "cell_type": "markdown",
   "metadata": {},
   "source": [
    "## 建立模型"
   ]
  },
  {
   "cell_type": "code",
   "execution_count": 3,
   "metadata": {},
   "outputs": [],
   "source": [
    "class myModel:\n",
    "    def __init__(self):\n",
    "        ####################\n",
    "        '''声明模型对应的参数'''\n",
    "        ####################\n",
    "        self.W1 = tf.Variable(tf.random.normal((784, 512)))\n",
    "        self.b1 = tf.Variable(tf.zeros((512,)))\n",
    "        self.W2 = tf.Variable(tf.random.normal((512, 128)))\n",
    "        self.b2 = tf.Variable(tf.zeros((128,)))\n",
    "        self.W3 = tf.Variable(tf.random.normal((128, 10)))\n",
    "        self.b3 = tf.Variable(tf.zeros((10,)))\n",
    "\n",
    "\n",
    "    def __call__(self, x):\n",
    "        ####################\n",
    "        '''实现模型函数体，返回未归一化的logits'''\n",
    "        ####################\n",
    "        x = tf.reshape(x, (-1, 784))  # 展平输入\n",
    "        x = tf.nn.relu(tf.matmul(x, self.W1) + self.b1)  # 第一个全连接层\n",
    "        x = tf.nn.relu(tf.matmul(x, self.W2) + self.b2)  # 第二个全连接层\n",
    "        logits = tf.matmul(x, self.W3) + self.b3  # 第三个全连接层\n",
    "        \n",
    "        return logits\n",
    "        \n",
    "model = myModel()\n",
    "\n",
    "optimizer = optimizers.Adam()"
   ]
  },
  {
   "cell_type": "markdown",
   "metadata": {},
   "source": [
    "## 计算 loss"
   ]
  },
  {
   "cell_type": "code",
   "execution_count": 4,
   "metadata": {},
   "outputs": [],
   "source": [
    "@tf.function\n",
    "def compute_loss(logits, labels):\n",
    "    return tf.reduce_mean(\n",
    "        tf.nn.sparse_softmax_cross_entropy_with_logits(\n",
    "            logits=logits, labels=labels))\n",
    "\n",
    "@tf.function\n",
    "def compute_accuracy(logits, labels):\n",
    "    predictions = tf.argmax(logits, axis=1)\n",
    "    return tf.reduce_mean(tf.cast(tf.equal(predictions, labels), tf.float32))\n",
    "\n",
    "@tf.function\n",
    "def train_one_step(model, optimizer, x, y):\n",
    "    with tf.GradientTape() as tape:\n",
    "        logits = model(x)\n",
    "        loss = compute_loss(logits, y)\n",
    "\n",
    "    # compute gradient\n",
    "    trainable_vars = [model.W1, model.W2, model.b1, model.b2]\n",
    "    grads = tape.gradient(loss, trainable_vars)\n",
    "    for g, v in zip(grads, trainable_vars):\n",
    "        v.assign_sub(0.01*g)\n",
    "\n",
    "    accuracy = compute_accuracy(logits, y)\n",
    "\n",
    "    # loss and accuracy is scalar tensor\n",
    "    return loss, accuracy\n",
    "\n",
    "@tf.function\n",
    "def test(model, x, y):\n",
    "    logits = model(x)\n",
    "    loss = compute_loss(logits, y)\n",
    "    accuracy = compute_accuracy(logits, y)\n",
    "    return loss, accuracy"
   ]
  },
  {
   "cell_type": "markdown",
   "metadata": {},
   "source": [
    "## 实际训练"
   ]
  },
  {
   "cell_type": "code",
   "execution_count": 5,
   "metadata": {},
   "outputs": [
    {
     "name": "stdout",
     "output_type": "stream",
     "text": [
      "epoch 0 : loss 1618.1831 ; accuracy 0.07721667\n",
      "epoch 1 : loss 929.5945 ; accuracy 0.17548333\n",
      "epoch 2 : loss 659.072 ; accuracy 0.26228333\n",
      "epoch 3 : loss 534.87036 ; accuracy 0.27885\n",
      "epoch 4 : loss 407.79868 ; accuracy 0.3587\n",
      "epoch 5 : loss 391.59 ; accuracy 0.37695\n",
      "epoch 6 : loss 335.45145 ; accuracy 0.43543333\n",
      "epoch 7 : loss 302.98886 ; accuracy 0.46343333\n",
      "epoch 8 : loss 255.73412 ; accuracy 0.5086\n",
      "epoch 9 : loss 240.87904 ; accuracy 0.52643335\n",
      "epoch 10 : loss 219.58636 ; accuracy 0.55215\n",
      "epoch 11 : loss 205.79364 ; accuracy 0.56958336\n",
      "epoch 12 : loss 190.77077 ; accuracy 0.5874\n",
      "epoch 13 : loss 180.1987 ; accuracy 0.60366666\n",
      "epoch 14 : loss 168.98573 ; accuracy 0.61621666\n",
      "epoch 15 : loss 161.4431 ; accuracy 0.6305\n",
      "epoch 16 : loss 153.66515 ; accuracy 0.64091665\n",
      "epoch 17 : loss 147.77254 ; accuracy 0.6522167\n",
      "epoch 18 : loss 142.15196 ; accuracy 0.6599\n",
      "epoch 19 : loss 137.57808 ; accuracy 0.6684167\n",
      "epoch 20 : loss 133.4264 ; accuracy 0.67571664\n",
      "epoch 21 : loss 129.71585 ; accuracy 0.68203336\n",
      "epoch 22 : loss 126.34105 ; accuracy 0.68795\n",
      "epoch 23 : loss 123.2298 ; accuracy 0.69345\n",
      "epoch 24 : loss 120.36173 ; accuracy 0.69835\n",
      "epoch 25 : loss 117.68623 ; accuracy 0.70301664\n",
      "epoch 26 : loss 115.171 ; accuracy 0.70735\n",
      "epoch 27 : loss 112.8152 ; accuracy 0.71178335\n",
      "epoch 28 : loss 110.60454 ; accuracy 0.7159333\n",
      "epoch 29 : loss 108.51794 ; accuracy 0.72001666\n",
      "epoch 30 : loss 106.55341 ; accuracy 0.7237\n",
      "epoch 31 : loss 104.69532 ; accuracy 0.72748333\n",
      "epoch 32 : loss 102.933525 ; accuracy 0.73066664\n",
      "epoch 33 : loss 101.25708 ; accuracy 0.7335167\n",
      "epoch 34 : loss 99.65583 ; accuracy 0.7369\n",
      "epoch 35 : loss 98.13243 ; accuracy 0.73936665\n",
      "epoch 36 : loss 96.67338 ; accuracy 0.7420833\n",
      "epoch 37 : loss 95.27784 ; accuracy 0.7450333\n",
      "epoch 38 : loss 93.94686 ; accuracy 0.7474167\n",
      "epoch 39 : loss 92.67085 ; accuracy 0.7502\n",
      "epoch 40 : loss 91.447685 ; accuracy 0.7521333\n",
      "epoch 41 : loss 90.270195 ; accuracy 0.7543333\n",
      "epoch 42 : loss 89.133514 ; accuracy 0.75636667\n",
      "epoch 43 : loss 88.03795 ; accuracy 0.7582667\n",
      "epoch 44 : loss 86.978806 ; accuracy 0.76015\n",
      "epoch 45 : loss 85.95351 ; accuracy 0.7621167\n",
      "epoch 46 : loss 84.9678 ; accuracy 0.76435\n",
      "epoch 47 : loss 84.01764 ; accuracy 0.76603335\n",
      "epoch 48 : loss 83.098305 ; accuracy 0.76778334\n",
      "epoch 49 : loss 82.20947 ; accuracy 0.76961666\n",
      "epoch 50 : loss 81.35088 ; accuracy 0.77135\n",
      "epoch 51 : loss 80.5197 ; accuracy 0.77273333\n",
      "epoch 52 : loss 79.71038 ; accuracy 0.77456665\n",
      "epoch 53 : loss 78.9249 ; accuracy 0.7762333\n",
      "epoch 54 : loss 78.15903 ; accuracy 0.77755\n",
      "epoch 55 : loss 77.41308 ; accuracy 0.779\n",
      "epoch 56 : loss 76.68916 ; accuracy 0.7805333\n",
      "epoch 57 : loss 75.98354 ; accuracy 0.78188336\n",
      "epoch 58 : loss 75.295944 ; accuracy 0.7833667\n",
      "epoch 59 : loss 74.628716 ; accuracy 0.7847833\n",
      "epoch 60 : loss 73.97805 ; accuracy 0.78576666\n",
      "epoch 61 : loss 73.34195 ; accuracy 0.7871\n",
      "epoch 62 : loss 72.72257 ; accuracy 0.7884833\n",
      "epoch 63 : loss 72.118835 ; accuracy 0.78966665\n",
      "epoch 64 : loss 71.53161 ; accuracy 0.79055\n",
      "epoch 65 : loss 70.95777 ; accuracy 0.7916667\n",
      "epoch 66 : loss 70.39752 ; accuracy 0.7928333\n",
      "epoch 67 : loss 69.8507 ; accuracy 0.79385\n",
      "epoch 68 : loss 69.31504 ; accuracy 0.7949833\n",
      "epoch 69 : loss 68.792725 ; accuracy 0.7960167\n",
      "epoch 70 : loss 68.28176 ; accuracy 0.79695\n",
      "epoch 71 : loss 67.77943 ; accuracy 0.79791665\n",
      "epoch 72 : loss 67.28501 ; accuracy 0.79871666\n",
      "epoch 73 : loss 66.8013 ; accuracy 0.79981667\n",
      "epoch 74 : loss 66.329155 ; accuracy 0.80081666\n",
      "epoch 75 : loss 65.867226 ; accuracy 0.80145\n",
      "epoch 76 : loss 65.41398 ; accuracy 0.8024333\n",
      "epoch 77 : loss 64.96869 ; accuracy 0.8033\n",
      "epoch 78 : loss 64.53141 ; accuracy 0.80395\n",
      "epoch 79 : loss 64.10046 ; accuracy 0.8049167\n",
      "epoch 80 : loss 63.677307 ; accuracy 0.8056833\n",
      "epoch 81 : loss 63.262093 ; accuracy 0.80665\n",
      "epoch 82 : loss 62.85492 ; accuracy 0.8073\n",
      "epoch 83 : loss 62.455894 ; accuracy 0.8082833\n",
      "epoch 84 : loss 62.064278 ; accuracy 0.8089833\n",
      "epoch 85 : loss 61.678562 ; accuracy 0.80988336\n",
      "epoch 86 : loss 61.29855 ; accuracy 0.8103833\n",
      "epoch 87 : loss 60.923306 ; accuracy 0.811\n",
      "epoch 88 : loss 60.553684 ; accuracy 0.81186664\n",
      "epoch 89 : loss 60.189415 ; accuracy 0.81233335\n",
      "epoch 90 : loss 59.82953 ; accuracy 0.81273335\n",
      "epoch 91 : loss 59.474407 ; accuracy 0.8134\n",
      "epoch 92 : loss 59.12467 ; accuracy 0.8140333\n",
      "epoch 93 : loss 58.780224 ; accuracy 0.81448334\n",
      "epoch 94 : loss 58.440945 ; accuracy 0.8150667\n",
      "epoch 95 : loss 58.107662 ; accuracy 0.8157667\n",
      "epoch 96 : loss 57.78044 ; accuracy 0.81661665\n",
      "epoch 97 : loss 57.45859 ; accuracy 0.81715\n",
      "epoch 98 : loss 57.142143 ; accuracy 0.8178667\n",
      "epoch 99 : loss 56.830727 ; accuracy 0.81845\n",
      "test loss 55.750244 ; accuracy 0.8224\n"
     ]
    }
   ],
   "source": [
    "train_data, test_data = mnist_dataset()\n",
    "for epoch in range(100):\n",
    "    loss, accuracy = train_one_step(model, optimizer, \n",
    "                                    tf.constant(train_data[0], dtype=tf.float32), \n",
    "                                    tf.constant(train_data[1], dtype=tf.int64))\n",
    "    print('epoch', epoch, ': loss', loss.numpy(), '; accuracy', accuracy.numpy())\n",
    "loss, accuracy = test(model, \n",
    "                      tf.constant(test_data[0], dtype=tf.float32), \n",
    "                      tf.constant(test_data[1], dtype=tf.int64))\n",
    "\n",
    "print('test loss', loss.numpy(), '; accuracy', accuracy.numpy())"
   ]
  }
 ],
 "metadata": {
  "kernelspec": {
   "display_name": "Python 3",
   "language": "python",
   "name": "python3"
  },
  "language_info": {
   "codemirror_mode": {
    "name": "ipython",
    "version": 3
   },
   "file_extension": ".py",
   "mimetype": "text/x-python",
   "name": "python",
   "nbconvert_exporter": "python",
   "pygments_lexer": "ipython3",
   "version": "3.10.5"
  }
 },
 "nbformat": 4,
 "nbformat_minor": 2
}
